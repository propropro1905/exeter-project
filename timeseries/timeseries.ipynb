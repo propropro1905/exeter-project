{
 "cells": [
  {
   "cell_type": "code",
   "execution_count": 49,
   "metadata": {},
   "outputs": [],
   "source": [
    "import numpy as np\n",
    "import pandas as pd\n",
    "import cryptocompare\n",
    "import statsmodels.api as sm\n",
    "import datetime\n",
    "import quandl"
   ]
  },
  {
   "cell_type": "code",
   "execution_count": 50,
   "metadata": {},
   "outputs": [],
   "source": [
    "quandl.ApiConfig.api_key = '1PSFwTkjXiAe7xfT4rdn'\n",
    "cryptocompare_api_key = '572698eccdb0c57e6d02e62c3df0bd26ce30e51cf58b461619405f012ccb6697'"
   ]
  },
  {
   "cell_type": "markdown",
   "metadata": {},
   "source": [
    "get dataset from quandl indicate the import of crude oil in UK (thousand barrels per days) where:\n",
    "- JODI/OIL: the code name of the database\n",
    "- CR: the product is crude oil\n",
    "- IM: the state is import\n",
    "- KD: the units is thousand barrels per day\n",
    "- GBR: the code name for UK"
   ]
  },
  {
   "cell_type": "code",
   "execution_count": 66,
   "metadata": {},
   "outputs": [],
   "source": [
    "xt=quandl.get(\"JODI/OIL_CRIMKD_GBR\", start_date=\"2014-01-01\", end_date=\"2024-01-01\")"
   ]
  },
  {
   "cell_type": "code",
   "execution_count": 67,
   "metadata": {},
   "outputs": [
    {
     "data": {
      "text/plain": [
       "<bound method NDFrame.head of                Value  Notes\n",
       "Date                       \n",
       "2014-01-31  908.8874    1.0\n",
       "2014-02-28  938.3589    1.0\n",
       "2014-03-31  870.8487    1.0\n",
       "2014-04-30  925.6720    1.0\n",
       "2014-05-31  811.6510    1.0\n",
       "...              ...    ...\n",
       "2023-04-30  937.4640    1.0\n",
       "2023-05-31  895.3361    1.0\n",
       "2023-06-30  683.6903    1.0\n",
       "2023-07-31  941.2203    1.0\n",
       "2023-08-31  788.1145    2.0\n",
       "\n",
       "[116 rows x 2 columns]>"
      ]
     },
     "execution_count": 67,
     "metadata": {},
     "output_type": "execute_result"
    }
   ],
   "source": [
    "xt.head"
   ]
  },
  {
   "cell_type": "code",
   "execution_count": 68,
   "metadata": {},
   "outputs": [],
   "source": [
    "# start_date = datetime.datetime(2014, 1, 1)\n",
    "# end_date = datetime.datetime(2024, 1, 1)\n",
    "\n",
    "# # Calculate the number of days between start_date and end_date\n",
    "# num_days = (end_date - start_date).days\n",
    "prices = cryptocompare.get_historical_price_day_all('BTC', currency='USD')\n",
    "\n",
    "yt = pd.DataFrame(prices)"
   ]
  },
  {
   "cell_type": "code",
   "execution_count": 69,
   "metadata": {},
   "outputs": [
    {
     "data": {
      "text/plain": [
       "<bound method NDFrame.head of             time         high          low         open  volumefrom  \\\n",
       "0     1279324800      0.04951      0.04951      0.04951       20.00   \n",
       "1     1279411200      0.08585      0.04951      0.04951       75.01   \n",
       "2     1279497600      0.09307      0.07723      0.08584      574.00   \n",
       "3     1279584000      0.08181      0.07426      0.08080      262.00   \n",
       "4     1279670400      0.07921      0.06634      0.07474      575.00   \n",
       "...          ...          ...          ...          ...         ...   \n",
       "5024  1713398400  64181.25000  60829.27000  61283.74000    31452.84   \n",
       "5025  1713484800  65491.94000  59607.49000  63511.20000    46058.39   \n",
       "5026  1713571200  65453.07000  63140.68000  63848.26000    13464.03   \n",
       "5027  1713657600  65724.22000  64271.77000  64979.21000    13150.64   \n",
       "5028  1713744000  66529.55000  64536.42000  64955.82000     7005.03   \n",
       "\n",
       "          volumeto        close conversionType conversionSymbol  \n",
       "0     9.902000e-01      0.04951         direct                   \n",
       "1     5.092000e+00      0.08584         direct                   \n",
       "2     4.966000e+01      0.08080         direct                   \n",
       "3     2.059000e+01      0.07474         direct                   \n",
       "4     4.226000e+01      0.07921         direct                   \n",
       "...            ...          ...            ...              ...  \n",
       "5024  1.972786e+09  63511.20000         direct                   \n",
       "5025  2.923365e+09  63848.26000         direct                   \n",
       "5026  8.661055e+08  64979.21000         direct                   \n",
       "5027  8.543242e+08  64955.82000         direct                   \n",
       "5028  4.596123e+08  66097.96000         direct                   \n",
       "\n",
       "[5029 rows x 9 columns]>"
      ]
     },
     "execution_count": 69,
     "metadata": {},
     "output_type": "execute_result"
    }
   ],
   "source": [
    "yt.head"
   ]
  },
  {
   "cell_type": "code",
   "execution_count": 70,
   "metadata": {},
   "outputs": [],
   "source": [
    "# Make sure both time series are of the same length\n",
    "xt = xt[:len(yt)]\n",
    "yt = yt[:len(xt)]"
   ]
  },
  {
   "cell_type": "code",
   "execution_count": 71,
   "metadata": {},
   "outputs": [],
   "source": [
    "# Convert to numpy arrays\n",
    "xt = xt['Value'].values\n",
    "yt = yt['open'].values"
   ]
  },
  {
   "cell_type": "code",
   "execution_count": 75,
   "metadata": {},
   "outputs": [
    {
     "name": "stdout",
     "output_type": "stream",
     "text": [
      "[0.04951 0.04951 0.08584 0.0808  0.07474 0.07921 0.05842 0.06262 0.05454\n",
      " 0.0505  0.056   0.06    0.0589  0.0699  0.0627  0.06785 0.0611  0.0611\n",
      " 0.06    0.057   0.061   0.0623  0.059   0.0609  0.071   0.07    0.067\n",
      " 0.07    0.0645  0.067   0.06529 0.0655  0.07    0.068   0.0667  0.0655\n",
      " 0.0664  0.066   0.06491 0.065   0.0648  0.064   0.065   0.0646  0.064\n",
      " 0.06497 0.06    0.0629  0.0634  0.06085 0.06238 0.06165 0.0616  0.06101\n",
      " 0.062   0.06111 0.0618  0.06366 0.0615  0.06219 0.06199 0.0604  0.0619\n",
      " 0.0601  0.061   0.0627  0.0621  0.06265 0.0622  0.06231 0.0622  0.06202\n",
      " 0.0622  0.06221 0.0619  0.06191 0.0619  0.06197 0.0614  0.06111 0.0613\n",
      " 0.0614  0.06281 0.067   0.08685 0.0938  0.0965  0.095   0.0949  0.105\n",
      " 0.102   0.105   0.101   0.102   0.1024  0.097   0.099   0.107   0.109\n",
      " 0.1055  0.115   0.132   0.1503  0.1877  0.1731  0.19    0.1989  0.1925\n",
      " 0.1955  0.1938  0.1931  0.23    0.2639  0.39    0.34    0.243  ]\n"
     ]
    }
   ],
   "source": [
    "print(yt)"
   ]
  },
  {
   "cell_type": "code",
   "execution_count": 72,
   "metadata": {},
   "outputs": [],
   "source": [
    "# Perform OLS regression\n",
    "# Add a constant to the independent variable\n",
    "xt = sm.add_constant(xt)\n",
    "model = sm.OLS(yt, xt)\n",
    "results = model.fit()"
   ]
  },
  {
   "cell_type": "code",
   "execution_count": 73,
   "metadata": {},
   "outputs": [
    {
     "data": {
      "text/html": [
       "<table class=\"simpletable\">\n",
       "<caption>OLS Regression Results</caption>\n",
       "<tr>\n",
       "  <th>Dep. Variable:</th>            <td>y</td>        <th>  R-squared:         </th> <td>   0.001</td>\n",
       "</tr>\n",
       "<tr>\n",
       "  <th>Model:</th>                   <td>OLS</td>       <th>  Adj. R-squared:    </th> <td>  -0.008</td>\n",
       "</tr>\n",
       "<tr>\n",
       "  <th>Method:</th>             <td>Least Squares</td>  <th>  F-statistic:       </th> <td> 0.09879</td>\n",
       "</tr>\n",
       "<tr>\n",
       "  <th>Date:</th>             <td>Mon, 22 Apr 2024</td> <th>  Prob (F-statistic):</th>  <td> 0.754</td> \n",
       "</tr>\n",
       "<tr>\n",
       "  <th>Time:</th>                 <td>14:53:37</td>     <th>  Log-Likelihood:    </th> <td>  167.67</td>\n",
       "</tr>\n",
       "<tr>\n",
       "  <th>No. Observations:</th>      <td>   116</td>      <th>  AIC:               </th> <td>  -331.3</td>\n",
       "</tr>\n",
       "<tr>\n",
       "  <th>Df Residuals:</th>          <td>   114</td>      <th>  BIC:               </th> <td>  -325.8</td>\n",
       "</tr>\n",
       "<tr>\n",
       "  <th>Df Model:</th>              <td>     1</td>      <th>                     </th>     <td> </td>   \n",
       "</tr>\n",
       "<tr>\n",
       "  <th>Covariance Type:</th>      <td>nonrobust</td>    <th>                     </th>     <td> </td>   \n",
       "</tr>\n",
       "</table>\n",
       "<table class=\"simpletable\">\n",
       "<tr>\n",
       "    <td></td>       <th>coef</th>     <th>std err</th>      <th>t</th>      <th>P>|t|</th>  <th>[0.025</th>    <th>0.975]</th>  \n",
       "</tr>\n",
       "<tr>\n",
       "  <th>const</th> <td>    0.0998</td> <td>    0.035</td> <td>    2.848</td> <td> 0.005</td> <td>    0.030</td> <td>    0.169</td>\n",
       "</tr>\n",
       "<tr>\n",
       "  <th>x1</th>    <td>  -1.3e-05</td> <td> 4.14e-05</td> <td>   -0.314</td> <td> 0.754</td> <td>-9.49e-05</td> <td> 6.89e-05</td>\n",
       "</tr>\n",
       "</table>\n",
       "<table class=\"simpletable\">\n",
       "<tr>\n",
       "  <th>Omnibus:</th>       <td>92.880</td> <th>  Durbin-Watson:     </th> <td>   0.095</td> \n",
       "</tr>\n",
       "<tr>\n",
       "  <th>Prob(Omnibus):</th> <td> 0.000</td> <th>  Jarque-Bera (JB):  </th> <td> 569.931</td> \n",
       "</tr>\n",
       "<tr>\n",
       "  <th>Skew:</th>          <td> 2.893</td> <th>  Prob(JB):          </th> <td>1.74e-124</td>\n",
       "</tr>\n",
       "<tr>\n",
       "  <th>Kurtosis:</th>      <td>12.189</td> <th>  Cond. No.          </th> <td>5.56e+03</td> \n",
       "</tr>\n",
       "</table><br/><br/>Notes:<br/>[1] Standard Errors assume that the covariance matrix of the errors is correctly specified.<br/>[2] The condition number is large, 5.56e+03. This might indicate that there are<br/>strong multicollinearity or other numerical problems."
      ],
      "text/latex": [
       "\\begin{center}\n",
       "\\begin{tabular}{lclc}\n",
       "\\toprule\n",
       "\\textbf{Dep. Variable:}    &        y         & \\textbf{  R-squared:         } &     0.001   \\\\\n",
       "\\textbf{Model:}            &       OLS        & \\textbf{  Adj. R-squared:    } &    -0.008   \\\\\n",
       "\\textbf{Method:}           &  Least Squares   & \\textbf{  F-statistic:       } &   0.09879   \\\\\n",
       "\\textbf{Date:}             & Mon, 22 Apr 2024 & \\textbf{  Prob (F-statistic):} &    0.754    \\\\\n",
       "\\textbf{Time:}             &     14:53:37     & \\textbf{  Log-Likelihood:    } &    167.67   \\\\\n",
       "\\textbf{No. Observations:} &         116      & \\textbf{  AIC:               } &    -331.3   \\\\\n",
       "\\textbf{Df Residuals:}     &         114      & \\textbf{  BIC:               } &    -325.8   \\\\\n",
       "\\textbf{Df Model:}         &           1      & \\textbf{                     } &             \\\\\n",
       "\\textbf{Covariance Type:}  &    nonrobust     & \\textbf{                     } &             \\\\\n",
       "\\bottomrule\n",
       "\\end{tabular}\n",
       "\\begin{tabular}{lcccccc}\n",
       "               & \\textbf{coef} & \\textbf{std err} & \\textbf{t} & \\textbf{P$> |$t$|$} & \\textbf{[0.025} & \\textbf{0.975]}  \\\\\n",
       "\\midrule\n",
       "\\textbf{const} &       0.0998  &        0.035     &     2.848  &         0.005        &        0.030    &        0.169     \\\\\n",
       "\\textbf{x1}    &     -1.3e-05  &     4.14e-05     &    -0.314  &         0.754        &    -9.49e-05    &     6.89e-05     \\\\\n",
       "\\bottomrule\n",
       "\\end{tabular}\n",
       "\\begin{tabular}{lclc}\n",
       "\\textbf{Omnibus:}       & 92.880 & \\textbf{  Durbin-Watson:     } &     0.095  \\\\\n",
       "\\textbf{Prob(Omnibus):} &  0.000 & \\textbf{  Jarque-Bera (JB):  } &   569.931  \\\\\n",
       "\\textbf{Skew:}          &  2.893 & \\textbf{  Prob(JB):          } & 1.74e-124  \\\\\n",
       "\\textbf{Kurtosis:}      & 12.189 & \\textbf{  Cond. No.          } &  5.56e+03  \\\\\n",
       "\\bottomrule\n",
       "\\end{tabular}\n",
       "%\\caption{OLS Regression Results}\n",
       "\\end{center}\n",
       "\n",
       "Notes: \\newline\n",
       " [1] Standard Errors assume that the covariance matrix of the errors is correctly specified. \\newline\n",
       " [2] The condition number is large, 5.56e+03. This might indicate that there are \\newline\n",
       " strong multicollinearity or other numerical problems."
      ],
      "text/plain": [
       "<class 'statsmodels.iolib.summary.Summary'>\n",
       "\"\"\"\n",
       "                            OLS Regression Results                            \n",
       "==============================================================================\n",
       "Dep. Variable:                      y   R-squared:                       0.001\n",
       "Model:                            OLS   Adj. R-squared:                 -0.008\n",
       "Method:                 Least Squares   F-statistic:                   0.09879\n",
       "Date:                Mon, 22 Apr 2024   Prob (F-statistic):              0.754\n",
       "Time:                        14:53:37   Log-Likelihood:                 167.67\n",
       "No. Observations:                 116   AIC:                            -331.3\n",
       "Df Residuals:                     114   BIC:                            -325.8\n",
       "Df Model:                           1                                         \n",
       "Covariance Type:            nonrobust                                         \n",
       "==============================================================================\n",
       "                 coef    std err          t      P>|t|      [0.025      0.975]\n",
       "------------------------------------------------------------------------------\n",
       "const          0.0998      0.035      2.848      0.005       0.030       0.169\n",
       "x1           -1.3e-05   4.14e-05     -0.314      0.754   -9.49e-05    6.89e-05\n",
       "==============================================================================\n",
       "Omnibus:                       92.880   Durbin-Watson:                   0.095\n",
       "Prob(Omnibus):                  0.000   Jarque-Bera (JB):              569.931\n",
       "Skew:                           2.893   Prob(JB):                    1.74e-124\n",
       "Kurtosis:                      12.189   Cond. No.                     5.56e+03\n",
       "==============================================================================\n",
       "\n",
       "Notes:\n",
       "[1] Standard Errors assume that the covariance matrix of the errors is correctly specified.\n",
       "[2] The condition number is large, 5.56e+03. This might indicate that there are\n",
       "strong multicollinearity or other numerical problems.\n",
       "\"\"\""
      ]
     },
     "execution_count": 73,
     "metadata": {},
     "output_type": "execute_result"
    }
   ],
   "source": [
    "results.summary()\n"
   ]
  }
 ],
 "metadata": {
  "kernelspec": {
   "display_name": "Python 3",
   "language": "python",
   "name": "python3"
  },
  "language_info": {
   "codemirror_mode": {
    "name": "ipython",
    "version": 3
   },
   "file_extension": ".py",
   "mimetype": "text/x-python",
   "name": "python",
   "nbconvert_exporter": "python",
   "pygments_lexer": "ipython3",
   "version": "3.10.12"
  }
 },
 "nbformat": 4,
 "nbformat_minor": 2
}
